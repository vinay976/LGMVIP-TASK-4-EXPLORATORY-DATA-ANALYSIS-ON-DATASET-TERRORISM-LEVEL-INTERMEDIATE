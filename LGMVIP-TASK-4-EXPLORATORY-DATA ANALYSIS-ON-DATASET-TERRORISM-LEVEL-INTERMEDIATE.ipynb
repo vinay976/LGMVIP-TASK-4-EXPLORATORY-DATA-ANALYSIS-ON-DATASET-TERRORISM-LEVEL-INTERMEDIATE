{
 "cells": [
  {
   "cell_type": "markdown",
   "id": "c1b9ecc6",
   "metadata": {},
   "source": [
    "# LGMVIP TASK-4\n",
    "# LEVEL-INTERMEDIATE\n",
    "# EXPLORATORY DATA ANALYSIS ON DATASET TERRORISM\n",
    "# OBJECTIVE - AS A SECURITY/DEFENCE ANALYST TRY TO FIND OUT THE HOT ZONE OF TERRORISM\n",
    "# AUTHOR - JANAPATI VINAY KUMAR YADAV"
   ]
  },
  {
   "cell_type": "code",
   "execution_count": 3,
   "id": "1f411577",
   "metadata": {},
   "outputs": [],
   "source": [
    "##IMPORTING NECESSARY LIBRARIES\n",
    "import numpy as np\n",
    "import pandas as pd\n",
    "import matplotlib.pyplot as plt\n",
    "%matplotlib inline\n",
    "import seaborn as sns\n",
    "import warnings\n",
    "warnings.filterwarnings('ignore')"
   ]
  },
  {
   "cell_type": "code",
   "execution_count": 4,
   "id": "5f13ecd9",
   "metadata": {},
   "outputs": [
    {
     "data": {
      "text/html": [
       "<div>\n",
       "<style scoped>\n",
       "    .dataframe tbody tr th:only-of-type {\n",
       "        vertical-align: middle;\n",
       "    }\n",
       "\n",
       "    .dataframe tbody tr th {\n",
       "        vertical-align: top;\n",
       "    }\n",
       "\n",
       "    .dataframe thead th {\n",
       "        text-align: right;\n",
       "    }\n",
       "</style>\n",
       "<table border=\"1\" class=\"dataframe\">\n",
       "  <thead>\n",
       "    <tr style=\"text-align: right;\">\n",
       "      <th></th>\n",
       "      <th>eventid</th>\n",
       "      <th>iyear</th>\n",
       "      <th>imonth</th>\n",
       "      <th>iday</th>\n",
       "      <th>approxdate</th>\n",
       "      <th>extended</th>\n",
       "      <th>resolution</th>\n",
       "      <th>country</th>\n",
       "      <th>country_txt</th>\n",
       "      <th>region</th>\n",
       "      <th>...</th>\n",
       "      <th>addnotes</th>\n",
       "      <th>scite1</th>\n",
       "      <th>scite2</th>\n",
       "      <th>scite3</th>\n",
       "      <th>dbsource</th>\n",
       "      <th>INT_LOG</th>\n",
       "      <th>INT_IDEO</th>\n",
       "      <th>INT_MISC</th>\n",
       "      <th>INT_ANY</th>\n",
       "      <th>related</th>\n",
       "    </tr>\n",
       "  </thead>\n",
       "  <tbody>\n",
       "    <tr>\n",
       "      <th>0</th>\n",
       "      <td>1.97E+11</td>\n",
       "      <td>1970</td>\n",
       "      <td>7</td>\n",
       "      <td>2</td>\n",
       "      <td>NaN</td>\n",
       "      <td>0</td>\n",
       "      <td>NaN</td>\n",
       "      <td>58</td>\n",
       "      <td>Dominican Republic</td>\n",
       "      <td>2</td>\n",
       "      <td>...</td>\n",
       "      <td>NaN</td>\n",
       "      <td>NaN</td>\n",
       "      <td>NaN</td>\n",
       "      <td>NaN</td>\n",
       "      <td>PGIS</td>\n",
       "      <td>0</td>\n",
       "      <td>0</td>\n",
       "      <td>0</td>\n",
       "      <td>0</td>\n",
       "      <td>NaN</td>\n",
       "    </tr>\n",
       "    <tr>\n",
       "      <th>1</th>\n",
       "      <td>1.97E+11</td>\n",
       "      <td>1970</td>\n",
       "      <td>0</td>\n",
       "      <td>0</td>\n",
       "      <td>NaN</td>\n",
       "      <td>0</td>\n",
       "      <td>NaN</td>\n",
       "      <td>130</td>\n",
       "      <td>Mexico</td>\n",
       "      <td>1</td>\n",
       "      <td>...</td>\n",
       "      <td>NaN</td>\n",
       "      <td>NaN</td>\n",
       "      <td>NaN</td>\n",
       "      <td>NaN</td>\n",
       "      <td>PGIS</td>\n",
       "      <td>0</td>\n",
       "      <td>1</td>\n",
       "      <td>1</td>\n",
       "      <td>1</td>\n",
       "      <td>NaN</td>\n",
       "    </tr>\n",
       "    <tr>\n",
       "      <th>2</th>\n",
       "      <td>1.97001E+11</td>\n",
       "      <td>1970</td>\n",
       "      <td>1</td>\n",
       "      <td>0</td>\n",
       "      <td>NaN</td>\n",
       "      <td>0</td>\n",
       "      <td>NaN</td>\n",
       "      <td>160</td>\n",
       "      <td>Philippines</td>\n",
       "      <td>5</td>\n",
       "      <td>...</td>\n",
       "      <td>NaN</td>\n",
       "      <td>NaN</td>\n",
       "      <td>NaN</td>\n",
       "      <td>NaN</td>\n",
       "      <td>PGIS</td>\n",
       "      <td>-9</td>\n",
       "      <td>-9</td>\n",
       "      <td>1</td>\n",
       "      <td>1</td>\n",
       "      <td>NaN</td>\n",
       "    </tr>\n",
       "    <tr>\n",
       "      <th>3</th>\n",
       "      <td>1.97001E+11</td>\n",
       "      <td>1970</td>\n",
       "      <td>1</td>\n",
       "      <td>0</td>\n",
       "      <td>NaN</td>\n",
       "      <td>0</td>\n",
       "      <td>NaN</td>\n",
       "      <td>78</td>\n",
       "      <td>Greece</td>\n",
       "      <td>8</td>\n",
       "      <td>...</td>\n",
       "      <td>NaN</td>\n",
       "      <td>NaN</td>\n",
       "      <td>NaN</td>\n",
       "      <td>NaN</td>\n",
       "      <td>PGIS</td>\n",
       "      <td>-9</td>\n",
       "      <td>-9</td>\n",
       "      <td>1</td>\n",
       "      <td>1</td>\n",
       "      <td>NaN</td>\n",
       "    </tr>\n",
       "    <tr>\n",
       "      <th>4</th>\n",
       "      <td>1.97001E+11</td>\n",
       "      <td>1970</td>\n",
       "      <td>1</td>\n",
       "      <td>0</td>\n",
       "      <td>NaN</td>\n",
       "      <td>0</td>\n",
       "      <td>NaN</td>\n",
       "      <td>101</td>\n",
       "      <td>Japan</td>\n",
       "      <td>4</td>\n",
       "      <td>...</td>\n",
       "      <td>NaN</td>\n",
       "      <td>NaN</td>\n",
       "      <td>NaN</td>\n",
       "      <td>NaN</td>\n",
       "      <td>PGIS</td>\n",
       "      <td>-9</td>\n",
       "      <td>-9</td>\n",
       "      <td>1</td>\n",
       "      <td>1</td>\n",
       "      <td>NaN</td>\n",
       "    </tr>\n",
       "  </tbody>\n",
       "</table>\n",
       "<p>5 rows × 135 columns</p>\n",
       "</div>"
      ],
      "text/plain": [
       "       eventid iyear imonth iday approxdate extended resolution country  \\\n",
       "0     1.97E+11  1970      7    2        NaN        0        NaN      58   \n",
       "1     1.97E+11  1970      0    0        NaN        0        NaN     130   \n",
       "2  1.97001E+11  1970      1    0        NaN        0        NaN     160   \n",
       "3  1.97001E+11  1970      1    0        NaN        0        NaN      78   \n",
       "4  1.97001E+11  1970      1    0        NaN        0        NaN     101   \n",
       "\n",
       "          country_txt region  ... addnotes scite1 scite2 scite3 dbsource  \\\n",
       "0  Dominican Republic      2  ...      NaN    NaN    NaN    NaN     PGIS   \n",
       "1              Mexico      1  ...      NaN    NaN    NaN    NaN     PGIS   \n",
       "2         Philippines      5  ...      NaN    NaN    NaN    NaN     PGIS   \n",
       "3              Greece      8  ...      NaN    NaN    NaN    NaN     PGIS   \n",
       "4               Japan      4  ...      NaN    NaN    NaN    NaN     PGIS   \n",
       "\n",
       "  INT_LOG INT_IDEO INT_MISC INT_ANY related  \n",
       "0       0        0        0       0     NaN  \n",
       "1       0        1        1       1     NaN  \n",
       "2      -9       -9        1       1     NaN  \n",
       "3      -9       -9        1       1     NaN  \n",
       "4      -9       -9        1       1     NaN  \n",
       "\n",
       "[5 rows x 135 columns]"
      ]
     },
     "execution_count": 4,
     "metadata": {},
     "output_type": "execute_result"
    }
   ],
   "source": [
    "#Reading and Fetching the First 5 rows of the dataset\n",
    "df=pd.read_csv(r\"file:///C:/Users/admin/Downloads/globalterrorismdb_0718dist.csv\", dtype='unicode', encoding='latin1')\n",
    "df.head()\n"
   ]
  },
  {
   "cell_type": "code",
   "execution_count": 5,
   "id": "edb60004",
   "metadata": {},
   "outputs": [
    {
     "data": {
      "text/plain": [
       "(181691, 135)"
      ]
     },
     "execution_count": 5,
     "metadata": {},
     "output_type": "execute_result"
    }
   ],
   "source": [
    "#Finding the Overall Shape of the Database\n",
    "df.shape"
   ]
  },
  {
   "cell_type": "code",
   "execution_count": 6,
   "id": "2586551e",
   "metadata": {},
   "outputs": [
    {
     "data": {
      "text/plain": [
       "array(['eventid', 'iyear', 'imonth', 'iday', 'approxdate', 'extended',\n",
       "       'resolution', 'country', 'country_txt', 'region', 'region_txt',\n",
       "       'provstate', 'city', 'latitude', 'longitude', 'specificity',\n",
       "       'vicinity', 'location', 'summary', 'crit1', 'crit2', 'crit3',\n",
       "       'doubtterr', 'alternative', 'alternative_txt', 'multiple',\n",
       "       'success', 'suicide', 'attacktype1', 'attacktype1_txt',\n",
       "       'attacktype2', 'attacktype2_txt', 'attacktype3', 'attacktype3_txt',\n",
       "       'targtype1', 'targtype1_txt', 'targsubtype1', 'targsubtype1_txt',\n",
       "       'corp1', 'target1', 'natlty1', 'natlty1_txt', 'targtype2',\n",
       "       'targtype2_txt', 'targsubtype2', 'targsubtype2_txt', 'corp2',\n",
       "       'target2', 'natlty2', 'natlty2_txt', 'targtype3', 'targtype3_txt',\n",
       "       'targsubtype3', 'targsubtype3_txt', 'corp3', 'target3', 'natlty3',\n",
       "       'natlty3_txt', 'gname', 'gsubname', 'gname2', 'gsubname2',\n",
       "       'gname3', 'gsubname3', 'motive', 'guncertain1', 'guncertain2',\n",
       "       'guncertain3', 'individual', 'nperps', 'nperpcap', 'claimed',\n",
       "       'claimmode', 'claimmode_txt', 'claim2', 'claimmode2',\n",
       "       'claimmode2_txt', 'claim3', 'claimmode3', 'claimmode3_txt',\n",
       "       'compclaim', 'weaptype1', 'weaptype1_txt', 'weapsubtype1',\n",
       "       'weapsubtype1_txt', 'weaptype2', 'weaptype2_txt', 'weapsubtype2',\n",
       "       'weapsubtype2_txt', 'weaptype3', 'weaptype3_txt', 'weapsubtype3',\n",
       "       'weapsubtype3_txt', 'weaptype4', 'weaptype4_txt', 'weapsubtype4',\n",
       "       'weapsubtype4_txt', 'weapdetail', 'nkill', 'nkillus', 'nkillter',\n",
       "       'nwound', 'nwoundus', 'nwoundte', 'property', 'propextent',\n",
       "       'propextent_txt', 'propvalue', 'propcomment', 'ishostkid',\n",
       "       'nhostkid', 'nhostkidus', 'nhours', 'ndays', 'divert',\n",
       "       'kidhijcountry', 'ransom', 'ransomamt', 'ransomamtus',\n",
       "       'ransompaid', 'ransompaidus', 'ransomnote', 'hostkidoutcome',\n",
       "       'hostkidoutcome_txt', 'nreleased', 'addnotes', 'scite1', 'scite2',\n",
       "       'scite3', 'dbsource', 'INT_LOG', 'INT_IDEO', 'INT_MISC', 'INT_ANY',\n",
       "       'related'], dtype=object)"
      ]
     },
     "execution_count": 6,
     "metadata": {},
     "output_type": "execute_result"
    }
   ],
   "source": [
    "df.columns.values\n"
   ]
  },
  {
   "cell_type": "code",
   "execution_count": 7,
   "id": "2948fd5a",
   "metadata": {},
   "outputs": [
    {
     "name": "stdout",
     "output_type": "stream",
     "text": [
      "<class 'pandas.core.frame.DataFrame'>\n",
      "RangeIndex: 181691 entries, 0 to 181690\n",
      "Columns: 135 entries, eventid to related\n",
      "dtypes: object(135)\n",
      "memory usage: 93.6+ MB\n"
     ]
    }
   ],
   "source": [
    "#Basic Infrormation about Dataset\n",
    "df.info()"
   ]
  },
  {
   "cell_type": "code",
   "execution_count": 8,
   "id": "543e6b02",
   "metadata": {},
   "outputs": [
    {
     "data": {
      "text/html": [
       "<div>\n",
       "<style scoped>\n",
       "    .dataframe tbody tr th:only-of-type {\n",
       "        vertical-align: middle;\n",
       "    }\n",
       "\n",
       "    .dataframe tbody tr th {\n",
       "        vertical-align: top;\n",
       "    }\n",
       "\n",
       "    .dataframe thead th {\n",
       "        text-align: right;\n",
       "    }\n",
       "</style>\n",
       "<table border=\"1\" class=\"dataframe\">\n",
       "  <thead>\n",
       "    <tr style=\"text-align: right;\">\n",
       "      <th></th>\n",
       "      <th>eventid</th>\n",
       "      <th>iyear</th>\n",
       "      <th>imonth</th>\n",
       "      <th>iday</th>\n",
       "      <th>approxdate</th>\n",
       "      <th>extended</th>\n",
       "      <th>resolution</th>\n",
       "      <th>country</th>\n",
       "      <th>country_txt</th>\n",
       "      <th>region</th>\n",
       "      <th>...</th>\n",
       "      <th>addnotes</th>\n",
       "      <th>scite1</th>\n",
       "      <th>scite2</th>\n",
       "      <th>scite3</th>\n",
       "      <th>dbsource</th>\n",
       "      <th>INT_LOG</th>\n",
       "      <th>INT_IDEO</th>\n",
       "      <th>INT_MISC</th>\n",
       "      <th>INT_ANY</th>\n",
       "      <th>related</th>\n",
       "    </tr>\n",
       "  </thead>\n",
       "  <tbody>\n",
       "    <tr>\n",
       "      <th>count</th>\n",
       "      <td>181691</td>\n",
       "      <td>181691</td>\n",
       "      <td>181691</td>\n",
       "      <td>181691</td>\n",
       "      <td>9239</td>\n",
       "      <td>181691</td>\n",
       "      <td>2220</td>\n",
       "      <td>181691</td>\n",
       "      <td>181691</td>\n",
       "      <td>181691</td>\n",
       "      <td>...</td>\n",
       "      <td>28289</td>\n",
       "      <td>115500</td>\n",
       "      <td>76933</td>\n",
       "      <td>43516</td>\n",
       "      <td>181691</td>\n",
       "      <td>181691</td>\n",
       "      <td>181691</td>\n",
       "      <td>181691</td>\n",
       "      <td>181691</td>\n",
       "      <td>25038</td>\n",
       "    </tr>\n",
       "    <tr>\n",
       "      <th>unique</th>\n",
       "      <td>576</td>\n",
       "      <td>47</td>\n",
       "      <td>13</td>\n",
       "      <td>32</td>\n",
       "      <td>2244</td>\n",
       "      <td>2</td>\n",
       "      <td>1859</td>\n",
       "      <td>205</td>\n",
       "      <td>205</td>\n",
       "      <td>12</td>\n",
       "      <td>...</td>\n",
       "      <td>15429</td>\n",
       "      <td>83988</td>\n",
       "      <td>62263</td>\n",
       "      <td>36090</td>\n",
       "      <td>26</td>\n",
       "      <td>3</td>\n",
       "      <td>3</td>\n",
       "      <td>3</td>\n",
       "      <td>3</td>\n",
       "      <td>14306</td>\n",
       "    </tr>\n",
       "    <tr>\n",
       "      <th>top</th>\n",
       "      <td>2.01407E+11</td>\n",
       "      <td>2014</td>\n",
       "      <td>5</td>\n",
       "      <td>15</td>\n",
       "      <td>September 18-24, 2016</td>\n",
       "      <td>0</td>\n",
       "      <td>8/4/1998</td>\n",
       "      <td>95</td>\n",
       "      <td>Iraq</td>\n",
       "      <td>10</td>\n",
       "      <td>...</td>\n",
       "      <td>Casualty numbers for this incident conflict ac...</td>\n",
       "      <td>Committee on Government Operations United Stat...</td>\n",
       "      <td>Christopher Hewitt, \"Political Violence and Te...</td>\n",
       "      <td>Christopher Hewitt, \"Political Violence and Te...</td>\n",
       "      <td>START Primary Collection</td>\n",
       "      <td>-9</td>\n",
       "      <td>-9</td>\n",
       "      <td>0</td>\n",
       "      <td>-9</td>\n",
       "      <td>201612010023, 201612010024, 201612010025, 2016...</td>\n",
       "    </tr>\n",
       "    <tr>\n",
       "      <th>freq</th>\n",
       "      <td>1726</td>\n",
       "      <td>16903</td>\n",
       "      <td>16875</td>\n",
       "      <td>6500</td>\n",
       "      <td>101</td>\n",
       "      <td>173452</td>\n",
       "      <td>18</td>\n",
       "      <td>24636</td>\n",
       "      <td>24636</td>\n",
       "      <td>50474</td>\n",
       "      <td>...</td>\n",
       "      <td>1607</td>\n",
       "      <td>205</td>\n",
       "      <td>134</td>\n",
       "      <td>139</td>\n",
       "      <td>78002</td>\n",
       "      <td>92527</td>\n",
       "      <td>92659</td>\n",
       "      <td>160467</td>\n",
       "      <td>83830</td>\n",
       "      <td>80</td>\n",
       "    </tr>\n",
       "  </tbody>\n",
       "</table>\n",
       "<p>4 rows × 135 columns</p>\n",
       "</div>"
      ],
      "text/plain": [
       "            eventid   iyear  imonth    iday             approxdate extended  \\\n",
       "count        181691  181691  181691  181691                   9239   181691   \n",
       "unique          576      47      13      32                   2244        2   \n",
       "top     2.01407E+11    2014       5      15  September 18-24, 2016        0   \n",
       "freq           1726   16903   16875    6500                    101   173452   \n",
       "\n",
       "       resolution country country_txt  region  ...  \\\n",
       "count        2220  181691      181691  181691  ...   \n",
       "unique       1859     205         205      12  ...   \n",
       "top      8/4/1998      95        Iraq      10  ...   \n",
       "freq           18   24636       24636   50474  ...   \n",
       "\n",
       "                                                 addnotes  \\\n",
       "count                                               28289   \n",
       "unique                                              15429   \n",
       "top     Casualty numbers for this incident conflict ac...   \n",
       "freq                                                 1607   \n",
       "\n",
       "                                                   scite1  \\\n",
       "count                                              115500   \n",
       "unique                                              83988   \n",
       "top     Committee on Government Operations United Stat...   \n",
       "freq                                                  205   \n",
       "\n",
       "                                                   scite2  \\\n",
       "count                                               76933   \n",
       "unique                                              62263   \n",
       "top     Christopher Hewitt, \"Political Violence and Te...   \n",
       "freq                                                  134   \n",
       "\n",
       "                                                   scite3  \\\n",
       "count                                               43516   \n",
       "unique                                              36090   \n",
       "top     Christopher Hewitt, \"Political Violence and Te...   \n",
       "freq                                                  139   \n",
       "\n",
       "                        dbsource INT_LOG INT_IDEO INT_MISC INT_ANY  \\\n",
       "count                     181691  181691   181691   181691  181691   \n",
       "unique                        26       3        3        3       3   \n",
       "top     START Primary Collection      -9       -9        0      -9   \n",
       "freq                       78002   92527    92659   160467   83830   \n",
       "\n",
       "                                                  related  \n",
       "count                                               25038  \n",
       "unique                                              14306  \n",
       "top     201612010023, 201612010024, 201612010025, 2016...  \n",
       "freq                                                   80  \n",
       "\n",
       "[4 rows x 135 columns]"
      ]
     },
     "execution_count": 8,
     "metadata": {},
     "output_type": "execute_result"
    }
   ],
   "source": [
    "#Finding Statistical values From The dataset\n",
    "df.describe()"
   ]
  },
  {
   "cell_type": "code",
   "execution_count": 9,
   "id": "44d999c0",
   "metadata": {},
   "outputs": [
    {
     "data": {
      "text/plain": [
       "eventid            0\n",
       "iyear              0\n",
       "imonth             0\n",
       "iday               0\n",
       "approxdate    172452\n",
       "               ...  \n",
       "INT_LOG            0\n",
       "INT_IDEO           0\n",
       "INT_MISC           0\n",
       "INT_ANY            0\n",
       "related       156653\n",
       "Length: 135, dtype: int64"
      ]
     },
     "execution_count": 9,
     "metadata": {},
     "output_type": "execute_result"
    }
   ],
   "source": [
    "#Checking for Null Values\n",
    "df.isnull().sum()"
   ]
  },
  {
   "cell_type": "code",
   "execution_count": 10,
   "id": "be27aaa7",
   "metadata": {},
   "outputs": [],
   "source": [
    "#Filling Null values\n",
    "df['approxdate']=df['approxdate'].fillna(0)\n",
    "df['related']=df['related'].fillna(0)"
   ]
  },
  {
   "cell_type": "markdown",
   "id": "63d7b56c",
   "metadata": {},
   "source": [
    "# TOP 5 TARGETS OF TERRORIST ATTACKS\n"
   ]
  },
  {
   "cell_type": "code",
   "execution_count": 11,
   "id": "e2487faf",
   "metadata": {},
   "outputs": [
    {
     "name": "stdout",
     "output_type": "stream",
     "text": [
      "Private Citizens & Property    43511\n",
      "Military                       27984\n",
      "Police                         24506\n",
      "Government (General)           21283\n",
      "Business                       20669\n",
      "Name: targtype1_txt, dtype: int64\n"
     ]
    }
   ],
   "source": [
    "##TOP 5 TARGETS OF TERRORIST ATTACKS\n",
    "print(df['targtype1_txt'].value_counts().head(5))"
   ]
  },
  {
   "cell_type": "code",
   "execution_count": 12,
   "id": "2d5722cd",
   "metadata": {},
   "outputs": [
    {
     "data": {
      "image/png": "[encoded data removed]",
      "text/plain": [
       "<Figure size 720x360 with 1 Axes>"
      ]
     },
     "metadata": {
      "needs_background": "light"
     },
     "output_type": "display_data"
    }
   ],
   "source": [
    "##PLOTTING THE SAME IN A BAR GRAPH\n",
    "plt.figure(figsize = (10,5))\n",
    "sns.barplot(df['targtype1_txt'].value_counts()[:5].index,df['targtype1_txt'].value_counts()[:5].values)\n",
    "plt.xlabel('Affected Targets')\n",
    "plt.ylabel('Count')\n",
    "plt.title('Top 5 Targets Of Terrorist Attacks')\n",
    "plt.xticks(rotation=90)\n",
    "plt.show()"
   ]
  },
  {
   "cell_type": "markdown",
   "id": "8a0a712c",
   "metadata": {},
   "source": [
    "# TOP TARGET OF TERROR ATTACKS- PRIVATE CITIZEN & PROPERTY\n",
    "# TOP 5 TERRORIST GROUPS"
   ]
  },
  {
   "cell_type": "code",
   "execution_count": 13,
   "id": "f20fabcd",
   "metadata": {},
   "outputs": [
    {
     "data": {
      "image/png": "[encoded data removed]",
      "text/plain": [
       "<Figure size 720x360 with 1 Axes>"
      ]
     },
     "metadata": {
      "needs_background": "light"
     },
     "output_type": "display_data"
    }
   ],
   "source": [
    "plt.figure(figsize = (10,5))\n",
    "sns.barplot(df['gname'].value_counts(dropna=False)[:5].index,df['gname'].value_counts()[:5].values, color='Red')\n",
    "plt.xlabel('Terrorist Group')\n",
    "plt.ylabel('Count')\n",
    "plt.xticks(rotation=90)\n",
    "plt.title('Most Active Terrorist Groups')\n",
    "plt.show()"
   ]
  },
  {
   "cell_type": "markdown",
   "id": "9805d399",
   "metadata": {},
   "source": [
    "# MOST ACTIVE TERRORIST GROUP-TALIBAN\n",
    "# TOP 10 COUNTRIES WITH MOST TERROR ATTACKS\n"
   ]
  },
  {
   "cell_type": "code",
   "execution_count": 14,
   "id": "c54bf009",
   "metadata": {},
   "outputs": [
    {
     "data": {
      "image/png": "[encoded data removed]",
      "text/plain": [
       "<Figure size 720x360 with 1 Axes>"
      ]
     },
     "metadata": {
      "needs_background": "light"
     },
     "output_type": "display_data"
    }
   ],
   "source": [
    "plt.figure(figsize = (10,5))\n",
    "sns.barplot(df['country_txt'].value_counts()[:10].index,df['country_txt'].value_counts()[:10].values, color='DarkOrange')\n",
    "plt.xlabel('Countries')\n",
    "plt.ylabel('Count')\n",
    "plt.title('Top 10 Countries with Most Terror Attacks')\n",
    "plt.xticks(rotation=90)\n",
    "plt.show()"
   ]
  },
  {
   "cell_type": "markdown",
   "id": "d45d72cd",
   "metadata": {},
   "source": [
    "# MOST AFFECTED COUNTRY-IRAQ\n",
    "# TOP 10 STATES WITH MOST TERROR ATTACKS\n"
   ]
  },
  {
   "cell_type": "code",
   "execution_count": 15,
   "id": "6d15c455",
   "metadata": {},
   "outputs": [
    {
     "data": {
      "image/png": "[encoded data removed]",
      "text/plain": [
       "<Figure size 720x360 with 1 Axes>"
      ]
     },
     "metadata": {
      "needs_background": "light"
     },
     "output_type": "display_data"
    }
   ],
   "source": [
    "plt.figure(figsize = (10,5))\n",
    "sns.barplot(df['provstate'].value_counts()[:10].index,df['provstate'].value_counts()[:10].values, color='Blue')\n",
    "plt.xlabel('State')\n",
    "plt.ylabel('Count')\n",
    "plt.title('Top 10 States with Most Attacks')\n",
    "plt.xticks(rotation=90)\n",
    "plt.show()"
   ]
  },
  {
   "cell_type": "markdown",
   "id": "b39dce25",
   "metadata": {},
   "source": [
    "# MOST AFFECTED STATE- BAGHDAD\n",
    "# TOP 10 CITIES WITH MOST TERROR ATTACKS\n"
   ]
  },
  {
   "cell_type": "code",
   "execution_count": 16,
   "id": "d5dad572",
   "metadata": {},
   "outputs": [
    {
     "data": {
      "image/png": "[encoded data removed]",
      "text/plain": [
       "<Figure size 720x360 with 1 Axes>"
      ]
     },
     "metadata": {
      "needs_background": "light"
     },
     "output_type": "display_data"
    }
   ],
   "source": [
    "plt.figure(figsize = (10,5))\n",
    "sns.barplot(df['city'].value_counts()[:10].index,df['city'].value_counts()[:10].values, color='Indigo')\n",
    "plt.xlabel('City')\n",
    "plt.ylabel('Count')\n",
    "plt.xticks(rotation=90)\n",
    "plt.show()\n"
   ]
  },
  {
   "cell_type": "markdown",
   "id": "db363430",
   "metadata": {},
   "source": [
    "# MOST AFFECTED CITY- BAGHDAD\n",
    "# TOP 5 REGIONS WITH MOST TERROR ATTACKS\n"
   ]
  },
  {
   "cell_type": "code",
   "execution_count": 17,
   "id": "7f269522",
   "metadata": {},
   "outputs": [
    {
     "data": {
      "image/png": "[encoded data removed]",
      "text/plain": [
       "<Figure size 720x360 with 1 Axes>"
      ]
     },
     "metadata": {
      "needs_background": "light"
     },
     "output_type": "display_data"
    }
   ],
   "source": [
    "plt.figure(figsize = (10,5))\n",
    "sns.barplot(df['region_txt'].value_counts()[:5].index,df['region_txt'].value_counts()[:5].values, color='Green')\n",
    "plt.xlabel('Region')\n",
    "plt.ylabel('Count')\n",
    "plt.title('Top 5 Regions of Terror Attacks')\n",
    "plt.xticks(rotation=90)\n",
    "plt.show()"
   ]
  },
  {
   "cell_type": "markdown",
   "id": "5864cc53",
   "metadata": {},
   "source": [
    "# MOST AFFECTED REGION- MIDDLE EAST & NORTH AFRICA\n",
    "# YEARS WITH MOST TERROR ATTACKS IN ASCENDING YEAR\n"
   ]
  },
  {
   "cell_type": "code",
   "execution_count": 18,
   "id": "4b5f3f56",
   "metadata": {},
   "outputs": [
    {
     "data": {
      "image/png": "[encoded data removed]",
      "text/plain": [
       "<Figure size 720x360 with 1 Axes>"
      ]
     },
     "metadata": {
      "needs_background": "light"
     },
     "output_type": "display_data"
    }
   ],
   "source": [
    "plt.figure(figsize = (10,5))\n",
    "sns.barplot(df['iyear'].value_counts().index,df['iyear'].value_counts().values)\n",
    "plt.xlabel('Year')\n",
    "plt.ylabel('Count')\n",
    "plt.xticks(rotation=90)\n",
    "plt.show()"
   ]
  },
  {
   "cell_type": "markdown",
   "id": "d4ac98d4",
   "metadata": {},
   "source": [
    "# MOST TERRIFIC YEAR- 2014\n",
    "# MONTHS WITH MOST TERROR ATTACKS IN ASCENDING YEAR\n"
   ]
  },
  {
   "cell_type": "code",
   "execution_count": 19,
   "id": "b696e90b",
   "metadata": {},
   "outputs": [
    {
     "data": {
      "image/png": "[encoded data removed]",
      "text/plain": [
       "<Figure size 432x288 with 1 Axes>"
      ]
     },
     "metadata": {
      "needs_background": "light"
     },
     "output_type": "display_data"
    }
   ],
   "source": [
    "## YEARS WITH MOST TERROR ATTACKS IN ASCENDING YEARplt.figure(figsize = (10,5))\n",
    "sns.barplot(df['imonth'].value_counts().index,df['imonth'].value_counts().values)\n",
    "plt.xlabel('Month')\n",
    "plt.ylabel('Count')\n",
    "plt.title('Terrorist Attacks Every Months')\n",
    "plt.xticks(rotation=90)\n",
    "plt.show()"
   ]
  },
  {
   "cell_type": "markdown",
   "id": "a1c5e0c3",
   "metadata": {},
   "source": [
    "# MONTHS WITH MOST ATTACKS- MAY\n",
    "# CONCLUSION\n",
    "### TOP TARGET OF TERROR ATTACKS- PRIVATE CITIZEN & PROPERTYTOP AFFECTED TARGETS- PRIVATE CITIZEN & PROPERTY, MILITARY, PLOCE, GOVERNMENT PROPERTIES & BUSINESS\n",
    "### MOST ACTIVE TERRORIST GROUP-TALIBAN\n",
    "### MOST AFFECTED COUNTRY-IRAQ\n",
    "### MOST AFFECTED STATE- BAGHDAD\n",
    "### MOST AFFECTED CITY- BAGHDAD\n",
    "### MOST AFFECTED REGION- MIDDLE EAST & NORTH AFRICA\n",
    "### MOST TERRIFIC YEAR- 2014\n",
    "### LEAST AFFECTED YEAR- 1971\n",
    "### MONTHS WITH MOST ATTACKS- MAY\n",
    "# THANK YOU"
   ]
  },
  {
   "cell_type": "code",
   "execution_count": null,
   "id": "20a72905",
   "metadata": {},
   "outputs": [],
   "source": []
  }
 ],
 "metadata": {
  "kernelspec": {
   "display_name": "Python 3",
   "language": "python",
   "name": "python3"
  },
  "language_info": {
   "codemirror_mode": {
    "name": "ipython",
    "version": 3
   },
   "file_extension": ".py",
   "mimetype": "text/x-python",
   "name": "python",
   "nbconvert_exporter": "python",
   "pygments_lexer": "ipython3",
   "version": "3.8.8"
  }
 },
 "nbformat": 4,
 "nbformat_minor": 5
}
